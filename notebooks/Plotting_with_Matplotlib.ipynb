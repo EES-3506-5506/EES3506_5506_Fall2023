{
 "cells": [
  {
   "cell_type": "markdown",
   "id": "2032b30f-1086-4544-9c85-2ff40cf467b6",
   "metadata": {},
   "source": [
    "#### To create effective visualizations of data you will need to become familiar with Python's Matplotlib library. This lesson follows on from the _\"Intro to Pandas and working with CSV files\"_ and is modeled after Section 1 of \"Scientists Guide to Plotting Data in Python\" : https://www.earthdatascience.org/courses/scientists-guide-to-plotting-data-in-python/plot-with-matplotlib/introduction-to-matplotlib-plots/"
   ]
  },
  {
   "cell_type": "markdown",
   "id": "cf42601c-6de8-463f-bb36-97c8c1c08426",
   "metadata": {},
   "source": [
    "#### You should be __entering__ this lesson with knowledge of Pandas DataFrames and how to open and work with data in a CSV file.\n",
    "\n",
    "#### You should be __leaving__ this lesson with ...\n",
    "* The ability to explain the matplotlib object-oriented approach to plotting.\n",
    "* The ability to create different types of plots using matplotlib.\n",
    "* The ability to customize plots (including labels and colors) using matplotlib.\n",
    "* The ability to create figures with multiple plots."
   ]
  },
  {
   "cell_type": "code",
   "execution_count": 1,
   "id": "aab5559f-79c5-4365-963c-5b13c1b7103b",
   "metadata": {
    "tags": []
   },
   "outputs": [],
   "source": [
    "import pandas as pd                          \n",
    "import matplotlib.pyplot as plt              \n",
    "\n",
    "%matplotlib inline                           \n",
    "%config InlineBackend.figure_format='retina' # Use %config InlineBackend.figure_format = 'retina' after %matplotlib inline to render higher resolution images.\n",
    "plt.rcParams['figure.figsize'] = 12,6   #default figure size"
   ]
  },
  {
   "cell_type": "code",
   "execution_count": null,
   "id": "cbe99406-b47e-4eb0-a641-fb39ddf55a38",
   "metadata": {},
   "outputs": [],
   "source": []
  }
 ],
 "metadata": {
  "kernelspec": {
   "display_name": "Python 3 (ipykernel)",
   "language": "python",
   "name": "python3"
  },
  "language_info": {
   "codemirror_mode": {
    "name": "ipython",
    "version": 3
   },
   "file_extension": ".py",
   "mimetype": "text/x-python",
   "name": "python",
   "nbconvert_exporter": "python",
   "pygments_lexer": "ipython3",
   "version": "3.9.16"
  }
 },
 "nbformat": 4,
 "nbformat_minor": 5
}
